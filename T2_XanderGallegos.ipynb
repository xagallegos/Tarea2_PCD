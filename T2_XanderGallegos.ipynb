{
 "cells": [
  {
   "cell_type": "markdown",
   "source": [
    "# MLOps\n",
    "Machine Learning Operations (MLOps) se trata de una serie de procesos para llevar un modelo de Machine Learning a producción. Esto para garantizar que dicho modelo pueda ser usado por una gran cantidad de usuarios de manera rápida y precisa. Se puede ver como un puente entre los científicos de datos y el equipo de producción, tiene el objetivo de automatizar lo mayor posible para obtener resultados mejores y más consistentes.\n",
    "\n",
    "Los procesos implementados en MLOps pueden ser representados de la siguiente manera:\n",
    " \n",
    "<img src=\"https://miro.medium.com/v2/resize:fit:900/1*3KN_-nb0DXEEvE0jOLMV3w.png\" alt=\"ML Project Lifecycle\"/>\n",
    "\n",
    "La necesidad de usar MLOps surge a partir de las siguientes problemáticas:\n",
    "\n",
    "1. **Llevar seguimiento del proyecto.**\n",
    "\n",
    "    Los proyectos de Machine Learning no dependen solo del código, sino también de una gran cantidad de datos, modelos y experimentos.\n",
    "     \n",
    "    Los datos que entrenas, validas y pruebas pueden cambiar constantemente, es importante llevar el control sobre qué datos se usaron con que experimento, los softwares más usados y recomendados para llevar las versiones de tu código y datos son `git` y `DVC` (Data Version Control).\n",
    "     \n",
    "    Por otro lado, debemos documentar los experimentos de manera ordenada para evitar correr los mismos experimentos, para esto es recomendado `mlflow`, una aplicación web con un API para documentar y visualizar experimentos.\n",
    " \n",
    "2. **Construir e implementar pipelines.**\n",
    "\n",
    "    También llamado integración continua / despliegue continua, tiene como objetivo construir, probar e implementar automáticamente una aplicación de forma segura.\n",
    "     \n",
    "    Esto se aplica en forma de microservicios usando `Docker`, el proceso implica crear y probar un servicio de ML en un contenedor de `Docker` , haciendo pruebas de calidad y rendimiento. Para despliegues ya en producción se recomienda `Kubernetes` que funciona como un orquestrador de contenedores.\n",
    "     \n",
    "    Por último, la monitorización, utilizando herramientas como `ELK Stack`, es crucial, así como tener en cuenta la versión de los datos para el proceso de reentrenamiento del modelo a medida que crece el conjunto de datos disponible.\n",
    "\n",
    "En conclusión, trabajar con MLOps es imprescindible para proyectos de Machine Learning que se quieren llevar a producción y tienen los siguientes beneficios:\n",
    "\n",
    "- Evitan ocasionar cuellos de botella entre equipos de trabajo, manteniendo todo el trabajo versionado, documentado y al alcance de todos.\n",
    "- Previene la fatiga laboral manteniendo el trabajo dividido efectivamente y automatizando las tareas manuales.\n",
    "- Se asegura de que este implementado un estricto control de versiones evitando problemas no solo en las pruebas del proyecto, pero también en caso de que el equipo cambie."
   ],
   "metadata": {
    "collapsed": false
   },
   "id": "e1a77d6959837e4d"
  }
 ],
 "metadata": {
  "kernelspec": {
   "display_name": "Python 3",
   "language": "python",
   "name": "python3"
  },
  "language_info": {
   "codemirror_mode": {
    "name": "ipython",
    "version": 2
   },
   "file_extension": ".py",
   "mimetype": "text/x-python",
   "name": "python",
   "nbconvert_exporter": "python",
   "pygments_lexer": "ipython2",
   "version": "2.7.6"
  }
 },
 "nbformat": 4,
 "nbformat_minor": 5
}
